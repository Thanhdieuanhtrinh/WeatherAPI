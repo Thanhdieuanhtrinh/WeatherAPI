{
 "cells": [
  {
   "cell_type": "markdown",
   "metadata": {},
   "source": [
    "## OpenWeatherAPI\n",
    "Doc: https://openweathermap.org/current"
   ]
  },
  {
   "cell_type": "code",
   "execution_count": 75,
   "metadata": {},
   "outputs": [
    {
     "name": "stdout",
     "output_type": "stream",
     "text": [
      "3fd85c34a7e73424a6ce64098d0dc87b\n"
     ]
    }
   ],
   "source": [
    "from dotenv import load_dotenv\n",
    "import os\n",
    "\n",
    "# Load the environment variables from .env file\n",
    "load_dotenv('.env')\n",
    "\n",
    "# Get the API key from the environment variable\n",
    "api_key = os.getenv('OpenWeatherMapAPIKey')\n",
    "# print(api_key) . xoa sau khi chay de protect the key\n"
   ]
  },
  {
   "cell_type": "code",
   "execution_count": 12,
   "metadata": {},
   "outputs": [],
   "source": [
    "# Import the requests library\n",
    "import requests\n"
   ]
  },
  {
   "cell_type": "code",
   "execution_count": 14,
   "metadata": {},
   "outputs": [
    {
     "name": "stdout",
     "output_type": "stream",
     "text": [
      "{'coord': {'lon': 105.8412, 'lat': 21.0245}, 'weather': [{'id': 803, 'main': 'Clouds', 'description': 'broken clouds', 'icon': '04n'}], 'base': 'stations', 'main': {'temp': 30, 'feels_like': 37, 'temp_min': 30, 'temp_max': 30, 'pressure': 1003, 'humidity': 79, 'sea_level': 1003, 'grnd_level': 1002}, 'visibility': 10000, 'wind': {'speed': 3.43, 'deg': 140, 'gust': 7.41}, 'clouds': {'all': 80}, 'dt': 1719152453, 'sys': {'type': 1, 'id': 9308, 'country': 'VN', 'sunrise': 1719094591, 'sunset': 1719142865}, 'timezone': 25200, 'id': 1581130, 'name': 'Hanoi', 'cod': 200}\n"
     ]
    }
   ],
   "source": [
    "import requests\n",
    "\n",
    "# Define the API endpoint URL\n",
    "response = requests.get(f\"https://api.openweathermap.org/data/2.5/weather?q=Hanoi&appid={api_key}&units=metric\")\n",
    "\n",
    "\n",
    "# Check if the request was successful (status code 200)\n",
    "if response.status_code == 200:\n",
    "    # Extract the weather data from the response\n",
    "    weather_data = response.json()\n",
    "    print(weather_data)\n",
    "else:\n",
    "    print(\"Error: Failed to retrieve weather data\")"
   ]
  },
  {
   "cell_type": "code",
   "execution_count": 22,
   "metadata": {},
   "outputs": [
    {
     "name": "stdout",
     "output_type": "stream",
     "text": [
      "{'coord': {'lon': 105.8412, 'lat': 21.0245}, 'weather': [{'id': 804, 'main': 'Clouds', 'description': '阴，多云', 'icon': '04n'}], 'base': 'stations', 'main': {'temp': 30, 'feels_like': 37, 'temp_min': 30, 'temp_max': 30, 'pressure': 1003, 'humidity': 81, 'sea_level': 1003, 'grnd_level': 1002}, 'visibility': 10000, 'wind': {'speed': 2.96, 'deg': 147, 'gust': 6.74}, 'clouds': {'all': 87}, 'dt': 1719153775, 'sys': {'type': 1, 'id': 9308, 'country': 'VN', 'sunrise': 1719094591, 'sunset': 1719142865}, 'timezone': 25200, 'id': 1581130, 'name': 'Hanoi', 'cod': 200}\n"
     ]
    }
   ],
   "source": [
    "# another way to pass the parameters\n",
    "response = requests.get(\"https://api.openweathermap.org/data/2.5/weather\", params={\n",
    "    \"q\": \"Hanoi\",\n",
    "    \"appid\": api_key,\n",
    "    \"units\": \"metric\",\n",
    "    \"lang\":\"zh_cn\"\n",
    "})\n",
    "\n",
    "print(response.json())"
   ]
  },
  {
   "cell_type": "markdown",
   "metadata": {},
   "source": [
    "## Bài tập\n",
    "Thay vì dùng tên thành phố trong query để lấy thông tin về thời tiết, hay nhập tên thành phố vào Geocoding API https://openweathermap.org/api/geocoding-api, rồi dùng lat & lon để nhạp vào WeatherAPI. Sau đó in ra thông số về thời tiết: nhiệt độ, feel like, ..."
   ]
  },
  {
   "cell_type": "code",
   "execution_count": 23,
   "metadata": {},
   "outputs": [
    {
     "name": "stdout",
     "output_type": "stream",
     "text": [
      "{'coord': {'lon': 105.8, 'lat': 21}, 'weather': [{'id': 804, 'main': 'Clouds', 'description': 'Bedeckt', 'icon': '04n'}], 'base': 'stations', 'main': {'temp': 30.02, 'feels_like': 37.02, 'temp_min': 30.02, 'temp_max': 30.02, 'pressure': 1003, 'humidity': 81, 'sea_level': 1003, 'grnd_level': 1002}, 'visibility': 10000, 'wind': {'speed': 3.01, 'deg': 149, 'gust': 6.54}, 'clouds': {'all': 85}, 'dt': 1719153704, 'sys': {'type': 1, 'id': 9308, 'country': 'VN', 'sunrise': 1719094604, 'sunset': 1719142872}, 'timezone': 25200, 'id': 1581364, 'name': 'Ha Dong', 'cod': 200}\n"
     ]
    }
   ],
   "source": [
    "import requests\n",
    "\n",
    "\n",
    "# Define the API endpoint URL\n",
    "response = requests.get(f\"https://api.openweathermap.org/data/2.5/weather?lat={lat}&lon={lon}&appid={api_key}&units=metric&lang=de\")\n",
    "\n",
    "\n",
    "# Check if the request was successful (status code 200)\n",
    "if response.status_code == 200:\n",
    "    # Extract the weather data from the response\n",
    "    weather_data = response.json()\n",
    "    print(weather_data)\n",
    "else:\n",
    "    print(\"Error: Failed to retrieve weather data\")"
   ]
  },
  {
   "cell_type": "code",
   "execution_count": 26,
   "metadata": {},
   "outputs": [
    {
     "data": {
      "text/plain": [
       "{'coord': {'lon': 105.8, 'lat': 21},\n",
       " 'weather': [{'id': 804,\n",
       "   'main': 'Clouds',\n",
       "   'description': 'Bedeckt',\n",
       "   'icon': '04n'}],\n",
       " 'base': 'stations',\n",
       " 'main': {'temp': 30.02,\n",
       "  'feels_like': 37.02,\n",
       "  'temp_min': 30.02,\n",
       "  'temp_max': 30.02,\n",
       "  'pressure': 1003,\n",
       "  'humidity': 81,\n",
       "  'sea_level': 1003,\n",
       "  'grnd_level': 1002},\n",
       " 'visibility': 10000,\n",
       " 'wind': {'speed': 3.01, 'deg': 149, 'gust': 6.54},\n",
       " 'clouds': {'all': 85},\n",
       " 'dt': 1719153704,\n",
       " 'sys': {'type': 1,\n",
       "  'id': 9308,\n",
       "  'country': 'VN',\n",
       "  'sunrise': 1719094604,\n",
       "  'sunset': 1719142872},\n",
       " 'timezone': 25200,\n",
       " 'id': 1581364,\n",
       " 'name': 'Ha Dong',\n",
       " 'cod': 200}"
      ]
     },
     "execution_count": 26,
     "metadata": {},
     "output_type": "execute_result"
    }
   ],
   "source": [
    "weather_data"
   ]
  },
  {
   "cell_type": "code",
   "execution_count": 30,
   "metadata": {},
   "outputs": [
    {
     "name": "stdout",
     "output_type": "stream",
     "text": [
      "temp\n",
      "feels_like\n",
      "temp_min\n",
      "temp_max\n",
      "pressure\n",
      "humidity\n",
      "sea_level\n",
      "grnd_level\n"
     ]
    }
   ],
   "source": [
    "for key in weather_data[\"main\"].keys():\n",
    "    print(key)"
   ]
  },
  {
   "cell_type": "code",
   "execution_count": 31,
   "metadata": {},
   "outputs": [
    {
     "data": {
      "text/plain": [
       "81"
      ]
     },
     "execution_count": 31,
     "metadata": {},
     "output_type": "execute_result"
    }
   ],
   "source": [
    "weather_data[\"main\"][\"humidity\"]"
   ]
  },
  {
   "cell_type": "code",
   "execution_count": 57,
   "metadata": {},
   "outputs": [
    {
     "name": "stdout",
     "output_type": "stream",
     "text": [
      "Nhap lai\n"
     ]
    }
   ],
   "source": [
    "city = input(\"Nhap ten thanh pho: \")\n",
    "response = requests.get(f\"http://api.openweathermap.org/geo/1.0/direct?q={city}&limit=5&appid={api_key}\")\n",
    "\n",
    "\n",
    "# Check if the request was successful (status code 200)\n",
    "if response.status_code == 200:\n",
    "    # Extract the weather data from the response\n",
    "    geo_data = response.json()\n",
    "    print(geo_data)\n",
    "    # if len(geo_data) ==0:\n",
    "    #     print(\"Nhap lai\")\n",
    "else:\n",
    "    print(\"Error: Failed to retrieve weather data\")"
   ]
  },
  {
   "cell_type": "code",
   "execution_count": 76,
   "metadata": {},
   "outputs": [
    {
     "data": {
      "text/plain": [
       "[]"
      ]
     },
     "execution_count": 76,
     "metadata": {},
     "output_type": "execute_result"
    }
   ],
   "source": [
    "geo_data"
   ]
  },
  {
   "cell_type": "code",
   "execution_count": null,
   "metadata": {},
   "outputs": [],
   "source": []
  },
  {
   "cell_type": "code",
   "execution_count": 45,
   "metadata": {},
   "outputs": [
    {
     "name": "stdout",
     "output_type": "stream",
     "text": [
      "21.0294498 105.8544441\n"
     ]
    }
   ],
   "source": [
    "lat = geo_data[0][\"lat\"]\n",
    "lon = geo_data[0][\"lon\"]\n",
    "print(lat,lon)\n"
   ]
  },
  {
   "cell_type": "code",
   "execution_count": 59,
   "metadata": {},
   "outputs": [
    {
     "name": "stdout",
     "output_type": "stream",
     "text": [
      "{'coord': {'lon': 105.8544, 'lat': 21.0294}, 'weather': [{'id': 804, 'main': 'Clouds', 'description': 'mây đen u ám', 'icon': '04n'}], 'base': 'stations', 'main': {'temp': 28.98, 'feels_like': 35.12, 'temp_min': 28.98, 'temp_max': 28.98, 'pressure': 1003, 'humidity': 82, 'sea_level': 1003, 'grnd_level': 1002}, 'visibility': 10000, 'wind': {'speed': 2.95, 'deg': 147, 'gust': 6.81}, 'clouds': {'all': 87}, 'dt': 1719155696, 'sys': {'type': 1, 'id': 9308, 'country': 'VN', 'sunrise': 1719094587, 'sunset': 1719142863}, 'timezone': 25200, 'id': 1561096, 'name': 'Xom Pho', 'cod': 200}\n"
     ]
    }
   ],
   "source": [
    "import requests\n",
    "\n",
    "\n",
    "# Define the API endpoint URL\n",
    "response = requests.get(f\"https://api.openweathermap.org/data/2.5/weather?lat={lat}&lon={lon}&appid={api_key}&units=metric&lang=vi\")\n",
    "\n",
    "\n",
    "# Check if the request was successful (status code 200)\n",
    "if response.status_code == 200:\n",
    "    # Extract the weather data from the response\n",
    "    weather_data = response.json()\n",
    "    print(weather_data)\n",
    "else:\n",
    "    print(\"Error: Failed to retrieve weather data\")"
   ]
  },
  {
   "cell_type": "code",
   "execution_count": 73,
   "metadata": {},
   "outputs": [
    {
     "data": {
      "text/plain": [
       "'mây đen u ám'"
      ]
     },
     "execution_count": 73,
     "metadata": {},
     "output_type": "execute_result"
    }
   ],
   "source": []
  },
  {
   "cell_type": "code",
   "execution_count": 74,
   "metadata": {},
   "outputs": [
    {
     "name": "stdout",
     "output_type": "stream",
     "text": [
      "Tinh hinh thoi tiet mây đen u ám\n",
      "Nhiet do la 28.98 \n",
      "Tam nhin xa 10.0 km\n"
     ]
    }
   ],
   "source": [
    "print(f\"\"\"Tinh hinh thoi tiet {weather_data[\"weather\"][0][\"description\"]}\n",
    "Nhiet do la {weather_data[\"main\"][\"temp\"]} \n",
    "Tam nhin xa {weather_data[\"visibility\"]/1000} km\"\"\")"
   ]
  }
 ],
 "metadata": {
  "kernelspec": {
   "display_name": "Python 3 (ipykernel)",
   "language": "python",
   "name": "python3"
  },
  "language_info": {
   "codemirror_mode": {
    "name": "ipython",
    "version": 3
   },
   "file_extension": ".py",
   "mimetype": "text/x-python",
   "name": "python",
   "nbconvert_exporter": "python",
   "pygments_lexer": "ipython3",
   "version": "3.12.4"
  }
 },
 "nbformat": 4,
 "nbformat_minor": 4
}
